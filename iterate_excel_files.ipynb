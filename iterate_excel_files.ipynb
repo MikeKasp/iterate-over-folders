{
 "cells": [
  {
   "attachments": {},
   "cell_type": "markdown",
   "metadata": {
    "heading_collapsed": true
   },
   "source": [
    "## Iterate over files in a folder"
   ]
  },
  {
   "cell_type": "code",
   "execution_count": 2,
   "metadata": {
    "hidden": true
   },
   "outputs": [
    {
     "data": {
      "text/plain": [
       "[WindowsPath('C:/Users/Bananatree/Desktop/Append_Excel_files/Excel_Files/1990.xlsx'),\n",
       " WindowsPath('C:/Users/Bananatree/Desktop/Append_Excel_files/Excel_Files/1991.xlsx'),\n",
       " WindowsPath('C:/Users/Bananatree/Desktop/Append_Excel_files/Excel_Files/1992.xlsx'),\n",
       " WindowsPath('C:/Users/Bananatree/Desktop/Append_Excel_files/Excel_Files/1993.xlsx'),\n",
       " WindowsPath('C:/Users/Bananatree/Desktop/Append_Excel_files/Excel_Files/1994.xlsx'),\n",
       " WindowsPath('C:/Users/Bananatree/Desktop/Append_Excel_files/Excel_Files/1995.xlsx'),\n",
       " WindowsPath('C:/Users/Bananatree/Desktop/Append_Excel_files/Excel_Files/1996.xlsx'),\n",
       " WindowsPath('C:/Users/Bananatree/Desktop/Append_Excel_files/Excel_Files/1940-1949/1940.xlsx'),\n",
       " WindowsPath('C:/Users/Bananatree/Desktop/Append_Excel_files/Excel_Files/1940-1949/1941.xlsx'),\n",
       " WindowsPath('C:/Users/Bananatree/Desktop/Append_Excel_files/Excel_Files/1940-1949/1943.xlsx'),\n",
       " WindowsPath('C:/Users/Bananatree/Desktop/Append_Excel_files/Excel_Files/1940-1949/1944.xlsx'),\n",
       " WindowsPath('C:/Users/Bananatree/Desktop/Append_Excel_files/Excel_Files/1940-1949/1945.xlsx'),\n",
       " WindowsPath('C:/Users/Bananatree/Desktop/Append_Excel_files/Excel_Files/1940-1949/1946.xlsx'),\n",
       " WindowsPath('C:/Users/Bananatree/Desktop/Append_Excel_files/Excel_Files/1940-1949/1947.xlsx'),\n",
       " WindowsPath('C:/Users/Bananatree/Desktop/Append_Excel_files/Excel_Files/1940-1949/1948.xlsx'),\n",
       " WindowsPath('C:/Users/Bananatree/Desktop/Append_Excel_files/Excel_Files/1940-1949/1949.xlsx'),\n",
       " WindowsPath('C:/Users/Bananatree/Desktop/Append_Excel_files/Excel_Files/1950-1959/1950.xlsx'),\n",
       " WindowsPath('C:/Users/Bananatree/Desktop/Append_Excel_files/Excel_Files/1950-1959/1951.xlsx'),\n",
       " WindowsPath('C:/Users/Bananatree/Desktop/Append_Excel_files/Excel_Files/1950-1959/1952.xlsx'),\n",
       " WindowsPath('C:/Users/Bananatree/Desktop/Append_Excel_files/Excel_Files/1950-1959/1953.xlsx'),\n",
       " WindowsPath('C:/Users/Bananatree/Desktop/Append_Excel_files/Excel_Files/1950-1959/1954.xlsx'),\n",
       " WindowsPath('C:/Users/Bananatree/Desktop/Append_Excel_files/Excel_Files/1950-1959/1955.xlsx'),\n",
       " WindowsPath('C:/Users/Bananatree/Desktop/Append_Excel_files/Excel_Files/1950-1959/1956.xlsx'),\n",
       " WindowsPath('C:/Users/Bananatree/Desktop/Append_Excel_files/Excel_Files/1950-1959/1957.xlsx'),\n",
       " WindowsPath('C:/Users/Bananatree/Desktop/Append_Excel_files/Excel_Files/1950-1959/1958.xlsx'),\n",
       " WindowsPath('C:/Users/Bananatree/Desktop/Append_Excel_files/Excel_Files/1950-1959/1959.xlsx'),\n",
       " WindowsPath('C:/Users/Bananatree/Desktop/Append_Excel_files/Excel_Files/1960-1969/1960.xlsx'),\n",
       " WindowsPath('C:/Users/Bananatree/Desktop/Append_Excel_files/Excel_Files/1960-1969/1961.xlsx'),\n",
       " WindowsPath('C:/Users/Bananatree/Desktop/Append_Excel_files/Excel_Files/1960-1969/1962.xlsx'),\n",
       " WindowsPath('C:/Users/Bananatree/Desktop/Append_Excel_files/Excel_Files/1960-1969/1963.xlsx'),\n",
       " WindowsPath('C:/Users/Bananatree/Desktop/Append_Excel_files/Excel_Files/1960-1969/1964.xlsx'),\n",
       " WindowsPath('C:/Users/Bananatree/Desktop/Append_Excel_files/Excel_Files/1960-1969/1965.xlsx'),\n",
       " WindowsPath('C:/Users/Bananatree/Desktop/Append_Excel_files/Excel_Files/1960-1969/1966.xlsx'),\n",
       " WindowsPath('C:/Users/Bananatree/Desktop/Append_Excel_files/Excel_Files/1960-1969/1967.xlsx'),\n",
       " WindowsPath('C:/Users/Bananatree/Desktop/Append_Excel_files/Excel_Files/1960-1969/1968.xlsx'),\n",
       " WindowsPath('C:/Users/Bananatree/Desktop/Append_Excel_files/Excel_Files/1960-1969/1969.xlsx'),\n",
       " WindowsPath('C:/Users/Bananatree/Desktop/Append_Excel_files/Excel_Files/1970-1979/1970.xlsx'),\n",
       " WindowsPath('C:/Users/Bananatree/Desktop/Append_Excel_files/Excel_Files/1970-1979/1971.xlsx'),\n",
       " WindowsPath('C:/Users/Bananatree/Desktop/Append_Excel_files/Excel_Files/1970-1979/1972.xlsx'),\n",
       " WindowsPath('C:/Users/Bananatree/Desktop/Append_Excel_files/Excel_Files/1970-1979/1973.xlsx'),\n",
       " WindowsPath('C:/Users/Bananatree/Desktop/Append_Excel_files/Excel_Files/1970-1979/1974.xlsx'),\n",
       " WindowsPath('C:/Users/Bananatree/Desktop/Append_Excel_files/Excel_Files/1970-1979/1975.xlsx'),\n",
       " WindowsPath('C:/Users/Bananatree/Desktop/Append_Excel_files/Excel_Files/1970-1979/1976.xlsx'),\n",
       " WindowsPath('C:/Users/Bananatree/Desktop/Append_Excel_files/Excel_Files/1970-1979/1977.xlsx'),\n",
       " WindowsPath('C:/Users/Bananatree/Desktop/Append_Excel_files/Excel_Files/1970-1979/1978.xlsx'),\n",
       " WindowsPath('C:/Users/Bananatree/Desktop/Append_Excel_files/Excel_Files/1970-1979/1979.xlsx'),\n",
       " WindowsPath('C:/Users/Bananatree/Desktop/Append_Excel_files/Excel_Files/1980-1989/1980.xlsx'),\n",
       " WindowsPath('C:/Users/Bananatree/Desktop/Append_Excel_files/Excel_Files/1980-1989/1981.xlsx'),\n",
       " WindowsPath('C:/Users/Bananatree/Desktop/Append_Excel_files/Excel_Files/1980-1989/1982.xlsx'),\n",
       " WindowsPath('C:/Users/Bananatree/Desktop/Append_Excel_files/Excel_Files/1980-1989/1983.xlsx'),\n",
       " WindowsPath('C:/Users/Bananatree/Desktop/Append_Excel_files/Excel_Files/1980-1989/1984.xlsx'),\n",
       " WindowsPath('C:/Users/Bananatree/Desktop/Append_Excel_files/Excel_Files/1980-1989/1985.xlsx'),\n",
       " WindowsPath('C:/Users/Bananatree/Desktop/Append_Excel_files/Excel_Files/1980-1989/1986.xlsx'),\n",
       " WindowsPath('C:/Users/Bananatree/Desktop/Append_Excel_files/Excel_Files/1980-1989/1987.xlsx'),\n",
       " WindowsPath('C:/Users/Bananatree/Desktop/Append_Excel_files/Excel_Files/1980-1989/1988.xlsx'),\n",
       " WindowsPath('C:/Users/Bananatree/Desktop/Append_Excel_files/Excel_Files/1980-1989/1989.xlsx')]"
      ]
     },
     "execution_count": 2,
     "metadata": {},
     "output_type": "execute_result"
    }
   ],
   "source": [
    "from pathlib import Path\n",
    "\n",
    "input_dir = Path.cwd() / \"Excel_Files\"\n",
    "\n",
    "# glob = specific folder\n",
    "# rglob = including subfolder\n",
    "files = list(input_dir.rglob(\"*.xls*\"))\n",
    "files"
   ]
  },
  {
   "cell_type": "markdown",
   "metadata": {
    "heading_collapsed": true
   },
   "source": [
    "## Merge all Excel files"
   ]
  },
  {
   "cell_type": "code",
   "execution_count": 3,
   "metadata": {
    "hidden": true
   },
   "outputs": [],
   "source": [
    "from pathlib import Path\n",
    "import pandas as pd  # pip install pandas\n",
    "\n",
    "# Store dataframes in a list\n",
    "parts = []\n",
    "for path in list(input_dir.rglob(\"*.xls*\")):\n",
    "    part = pd.read_excel(path)\n",
    "    parts.append(part)"
   ]
  },
  {
   "cell_type": "code",
   "execution_count": 4,
   "metadata": {
    "hidden": true
   },
   "outputs": [],
   "source": [
    "# Concatenate dataframes\n",
    "df = pd.concat(parts)\n",
    "\n",
    "# Save merged dataframe to output directory\n",
    "output_dir = Path.cwd() / \"MasterFile\"\n",
    "output_dir.mkdir(exist_ok=True)\n",
    "df.to_excel(output_dir / \"masterfile.xlsx\", index=False)"
   ]
  },
  {
   "cell_type": "markdown",
   "metadata": {
    "heading_collapsed": true
   },
   "source": [
    "## Change particular cell in all Excel files"
   ]
  },
  {
   "cell_type": "code",
   "execution_count": 5,
   "metadata": {
    "hidden": true
   },
   "outputs": [],
   "source": [
    "from pathlib import Path\n",
    "from openpyxl import load_workbook  # pip install openpyxl\n",
    "\n",
    "for path in list(input_dir.rglob(\"*.xls*\")):\n",
    "    wb = load_workbook(filename=path)\n",
    "    ws = wb[\"Sheet1\"]\n",
    "    ws[\"A1\"] = \"New ID\"\n",
    "    output_dir = Path.cwd() / \"New ID\"\n",
    "    output_dir.mkdir(exist_ok=True)\n",
    "    wb.save(output_dir / path.name)"
   ]
  }
 ],
 "metadata": {
  "kernelspec": {
   "display_name": "Python 3",
   "language": "python",
   "name": "python3"
  },
  "language_info": {
   "codemirror_mode": {
    "name": "ipython",
    "version": 3
   },
   "file_extension": ".py",
   "mimetype": "text/x-python",
   "name": "python",
   "nbconvert_exporter": "python",
   "pygments_lexer": "ipython3",
   "version": "3.8.5"
  }
 },
 "nbformat": 4,
 "nbformat_minor": 4
}
